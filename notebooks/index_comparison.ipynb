# Index Comparison Demo Notebook

# Cell 1: Markdown
"""
# Comparing UEDI & QSI
This notebook shows a side-by-side comparison of UEDI and QSI using synthetic datasets.
"""

# Cell 2: Imports
import pandas as pd
from uedi import compute_uedi
from qsi import qsi_pipeline
import matplotlib.pyplot as plt

# Cell 3: Load datasets
uedi_df = pd.read_csv("../examples/uedi_synthetic.csv")
qsi_df = pd.read_csv("../examples/qsi_synthetic.csv")

# Cell 4: Compute indices
uedi_res = compute_uedi(uedi_df, n_boot=100, random_state=42)

domain_cols = [
    "Emotional Health",
    "Motivation",
    "Identity & Belonging",
    "Burnout Risk",
    "Cognitive Function",
    "Engagement",
]
sem_cols = [
    "Emotional_sem",
    "Motivation_sem",
    "Identity_sem",
    "Burnout_sem",
    "Cognitive_sem",
    "Engagement_sem",
]

qsi_res = qsi_pipeline(
    qsi_df,
    domain_cols,
    sem_cols=sem_cols,
    strata_cols=["grade_band","language"],
    outcome_col="GPA",
    bootstrap_iters=50,
    pv_draws=3,
    random_state=42
)

# Cell 5: Simple comparison plot
plt.bar(["UEDI"], [uedi_res['uedi_mean'].mean()], color='skyblue', label='UEDI')
plt.bar(["QSI"], [qsi_res["bootstrap_summary"]["theory"]["mean"]], color='salmon', label='QSI')
plt.title("Average Index Comparison")
plt.ylabel("Index Score")
plt.ylim(0,100)
plt.show()
